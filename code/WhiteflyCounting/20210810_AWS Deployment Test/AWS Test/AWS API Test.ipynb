{
 "cells": [
  {
   "cell_type": "markdown",
   "id": "7f6db5ed",
   "metadata": {},
   "source": [
    "# AWS API Test"
   ]
  },
  {
   "cell_type": "code",
   "execution_count": 5,
   "id": "934a2a33",
   "metadata": {},
   "outputs": [
    {
     "name": "stdout",
     "output_type": "stream",
     "text": [
      " * Serving Flask app '__main__' (lazy loading)\n",
      " * Environment: production\n",
      "   WARNING: This is a development server. Do not use it in a production deployment.\n",
      "   Use a production WSGI server instead.\n",
      " * Debug mode: off\n"
     ]
    },
    {
     "name": "stderr",
     "output_type": "stream",
     "text": [
      " * Running on http://127.0.0.1:5000/ (Press CTRL+C to quit)\n",
      "127.0.0.1 - - [14/Aug/2021 22:04:52] \"GET /download_file HTTP/1.1\" 404 -\n",
      "127.0.0.1 - - [14/Aug/2021 22:04:53] \"POST /upload/ HTTP/1.1\" 200 -\n",
      "127.0.0.1 - - [14/Aug/2021 22:04:59] \"GET /download_file HTTP/1.1\" 200 -\n",
      "127.0.0.1 - - [14/Aug/2021 22:05:00] \"POST /upload/ HTTP/1.1\" 200 -\n",
      "127.0.0.1 - - [14/Aug/2021 22:05:17] \"GET /download_file HTTP/1.1\" 200 -\n",
      "127.0.0.1 - - [14/Aug/2021 22:05:17] \"POST /upload/ HTTP/1.1\" 200 -\n"
     ]
    }
   ],
   "source": [
    "import os, cv2, requests, base64\n",
    "from flask import Flask, jsonify, request, send_from_directory\n",
    "from flask_cors import CORS\n",
    "import numpy as np\n",
    "from WhiteflyCounting.WFC import whitefly_counting\n",
    "\n",
    "app = Flask(__name__)\n",
    "CORS(app)\n",
    "\n",
    "@app.route('/url_dwnld/<url>')\n",
    "def url_dwnld(url):\n",
    "    url = url + \"===\"\n",
    "    url = base64.b64decode(url).decode()\n",
    "    r = requests.get(url, allow_redirects=True)\n",
    "    open(\"./whitefly_test.jpg\", 'wb').write(r.content)\n",
    "    Elliptical_Fit_result, ellipse_area = whitefly_counting(\"./whitefly_test.jpg\")\n",
    "    return str(len(ellipse_area))\n",
    "\n",
    "\n",
    "@app.route('/upload/', methods=['POST'])\n",
    "def up_load_big_file():\n",
    "    img = request.files.get('bigfile')\n",
    "    img.save(\"./whitefly_test.jpg\")\n",
    "    Elliptical_Fit_result, ellipse_area = whitefly_counting(\"./whitefly_test.jpg\")\n",
    "    return str(len(ellipse_area))\n",
    "\n",
    "@app.route(\"/download_file\")\n",
    "def download_file():\n",
    "    # 假设在当前目录\n",
    "    directory = os.getcwd()  \n",
    "    return send_from_directory(directory, \"Keamns_Elliptical_Fit_Output.jpg\", as_attachment=True)\n",
    "\n",
    "\n",
    "if __name__ == '__main__':\n",
    "    app.run()"
   ]
  },
  {
   "cell_type": "code",
   "execution_count": 3,
   "id": "4026cfd1",
   "metadata": {
    "scrolled": true
   },
   "outputs": [
    {
     "data": {
      "text/plain": [
       "b'aHR0cHM6Ly9pbWcudmltLWNuLmNvbS9kNS82ZGJkY2Y2NDdlNWIwYTg1ZTJjNThlMmEyMGI2OWQxMDUxNjI1Yy5wbmc='"
      ]
     },
     "execution_count": 3,
     "metadata": {},
     "output_type": "execute_result"
    }
   ],
   "source": [
    "import base64\n",
    "url = 'https://img.vim-cn.com/d5/6dbdcf647e5b0a85e2c58e2a20b69d1051625c.png'\n",
    "base64.b64encode(url.encode())"
   ]
  },
  {
   "cell_type": "code",
   "execution_count": 4,
   "id": "bda0e37f",
   "metadata": {},
   "outputs": [
    {
     "data": {
      "text/plain": [
       "'https://img.vim-cn.com/d5/6dbdcf647e5b0a85e2c58e2a20b69d1051625c.png'"
      ]
     },
     "execution_count": 4,
     "metadata": {},
     "output_type": "execute_result"
    }
   ],
   "source": [
    "base64.b64decode('aHR0cHM6Ly9pbWcudmltLWNuLmNvbS9kNS82ZGJkY2Y2NDdlNWIwYTg1ZTJjNThlMmEyMGI2OWQxMDUxNjI1Yy5wbmc========').decode()"
   ]
  },
  {
   "cell_type": "code",
   "execution_count": null,
   "id": "6db35195",
   "metadata": {},
   "outputs": [],
   "source": [
    "## all code\n",
    "import os\n",
    "from flask import Flask, jsonify, render_template, request, url_for, send_from_directory\n",
    "from werkzeug.utils import secure_filename\n",
    "import math\n",
    "import cv2\n",
    "import numpy as np\n",
    "from PIL import Image, ImageOps\n",
    "from flask_cors import CORS\n",
    "import requests\n",
    "import base64\n",
    "\n",
    "\n",
    "## sticky card crop function\n",
    "def resizeImg(image, height=900):\n",
    "    h, w = image.shape[:2]\n",
    "    pro = height / h\n",
    "    size = (int(w * pro), int(height))\n",
    "    img = cv2.resize(image, size)\n",
    "    return img\n",
    "\n",
    "# canny edge detection\n",
    "def getCanny(image):\n",
    "    # 高斯模糊\n",
    "    binary = cv2.GaussianBlur(image, (11, 11), 2, 2)\n",
    "    # 边缘检测\n",
    "    binary = cv2.Canny(binary, 60, 240, apertureSize=3)\n",
    "    # 膨胀操作 尽量使边缘闭合\n",
    "    kernel = np.ones((3, 3), np.uint8)\n",
    "    binary = cv2.dilate(binary, kernel, iterations=1)\n",
    "    return binary\n",
    "\n",
    "# findMaxContour\n",
    "def findMaxContour(image):\n",
    "    # 寻找边缘\n",
    "    contours, _ = cv2.findContours(image, cv2.RETR_EXTERNAL, cv2.CHAIN_APPROX_NONE)\n",
    "    # 计算面积\n",
    "    max_area = 0.0\n",
    "    max_contour = []\n",
    "    for contour in contours:\n",
    "        currentArea = cv2.contourArea(contour)\n",
    "        if currentArea > max_area:\n",
    "            max_area = currentArea\n",
    "            max_contour = contour\n",
    "    return max_contour, max_area\n",
    "\n",
    "# get hulk point of parallel\n",
    "def getBoxPoint(contour):\n",
    "    # 多边形拟合凸包\n",
    "    hull = cv2.convexHull(contour)\n",
    "    epsilon = 0.02 * cv2.arcLength(contour, True)\n",
    "    approx = cv2.approxPolyDP(hull, epsilon, True)\n",
    "    approx = approx.reshape((len(approx), 2))\n",
    "    return approx\n",
    "\n",
    "# get point value in oringal img\n",
    "def adaPoint(box, pro):\n",
    "    box_pro = box\n",
    "    if pro != 1.0 :\n",
    "        box_pro = box/pro\n",
    "    box_pro = np.trunc(box_pro)\n",
    "    return box_pro\n",
    "\n",
    "# ordering point\n",
    "def orderPoints(pts):\n",
    "    rect = np.zeros((4, 2), dtype=\"float32\")\n",
    "    s = pts.sum(axis=1)# sum of point value(value_x + value_y)\n",
    "    rect[0] = pts[np.argmin(s)]\n",
    "    rect[2] = pts[np.argmax(s)]\n",
    "    diff = np.diff(pts, axis=1)# diff between value_y and value_x\n",
    "    rect[1] = pts[np.argmin(diff)]\n",
    "    rect[3] = pts[np.argmax(diff)]\n",
    "    return rect\n",
    "\n",
    "# calculate point distance\n",
    "def pointDistance(a, b):\n",
    "    return int(np.sqrt(np.sum(np.square(a - b))))\n",
    "\n",
    "# PerspectiveTransform\n",
    "def warpImage(image, box):\n",
    "    w, h = pointDistance(box[0], box[1]), \\\n",
    "           pointDistance(box[1], box[2])\n",
    "    dst_rect = np.array([[0, 0],\n",
    "                         [w - 1, 0],\n",
    "                         [w - 1, h - 1],\n",
    "                         [0, h - 1]], dtype='float32')\n",
    "    M = cv2.getPerspectiveTransform(box, dst_rect)\n",
    "    warped = cv2.warpPerspective(image, M, (w, h))\n",
    "    return warped\n",
    "\n",
    "\n",
    "\n",
    "\n",
    "\n",
    "\n",
    "\n",
    "\n",
    "\n",
    "\n"
   ]
  },
  {
   "cell_type": "code",
   "execution_count": null,
   "id": "e3a13d9a",
   "metadata": {},
   "outputs": [],
   "source": [
    "def sticky_card_crop(path):\n",
    "    image = cv2.imread(path)\n",
    "    ratio = 900 / image.shape[0]\n",
    "    img = resizeImg(image)\n",
    "    binary_img = getCanny(img)\n",
    "    max_contour, _ = findMaxContour(binary_img)\n",
    "    boxes = getBoxPoint(max_contour)\n",
    "    boxes = adaPoint(boxes, ratio)\n",
    "    boxes = orderPoints(boxes)\n",
    "    warped = warpImage(image, boxes)\n",
    "    return warped"
   ]
  },
  {
   "cell_type": "code",
   "execution_count": null,
   "id": "bb8d6d5c",
   "metadata": {},
   "outputs": [],
   "source": []
  },
  {
   "cell_type": "code",
   "execution_count": null,
   "id": "58aeaa7c",
   "metadata": {},
   "outputs": [],
   "source": [
    "## pading pic\n",
    "def padding_pic(img):\n",
    "    img_row_num = 3 - img.shape[0]%3\n",
    "    img=cv2.copyMakeBorder(img, 0, img_row_num, 0, 0, cv2.BORDER_CONSTANT, value=0)\n",
    "    return img"
   ]
  },
  {
   "cell_type": "code",
   "execution_count": null,
   "id": "5a75cf41",
   "metadata": {},
   "outputs": [],
   "source": [
    "## K-Means, Binarization and Elliptical Fit Code\n",
    "## K-means Code\n",
    "def pest_count_by_kmeans_and_binarz(Img, num_clusters=2):\n",
    "    #Img = cv2.imread(path, 1)\n",
    "    Img = Img[:,:,0]\n",
    "    # cv2.GaussianBlur\n",
    "    blur = cv2.GaussianBlur(Img, (9, 9), 0)\n",
    "    \n",
    "    # binarization\n",
    "    _, otsu = cv2.threshold(blur, 60, 255, cv2.THRESH_BINARY)\n",
    "    \n",
    "    # k-means\n",
    "    data = otsu.reshape((-1,3))\n",
    "    data = np.float32(data)\n",
    "    # stop criteria: criteria flag(means one of them), iteration, epsilon\n",
    "    criteria = (cv2.TERM_CRITERIA_EPS + cv2.TERM_CRITERIA_MAX_ITER, 10, 1.0)\n",
    "    # cv2.kmeans input six parameter: source data, cluster number, preset labels, \n",
    "    # stop criteria, repeat times, initial center\n",
    "    # cv2.kmeans return three value: retrurn value type, label of pixel, cluster center\n",
    "    _,label,_=cv2.kmeans(data, num_clusters, None, criteria, \n",
    "                           num_clusters, cv2.KMEANS_RANDOM_CENTERS)\n",
    "    color = np.uint8([[255, 0, 0],[128, 128, 128]])\n",
    "    res = color[label.flatten()]\n",
    "    result = res.reshape((Img.shape))\n",
    "    return result"
   ]
  },
  {
   "cell_type": "code",
   "execution_count": null,
   "id": "fac65dfc",
   "metadata": {},
   "outputs": [],
   "source": [
    "## Elliptical Fit Code\n",
    "def Elliptical_Fit(kmeans_result, original_file):\n",
    "    blur = cv2.GaussianBlur(kmeans_result, (9, 9), 0)\n",
    "    _, otsu = cv2.threshold(blur, 0, 255, cv2.THRESH_BINARY + cv2.THRESH_OTSU)\n",
    "    # cv2.Canny input three value: source img, min value, max value\n",
    "    binary = cv2.Canny(otsu, 80, 80 * 2)\n",
    "    # cv2.findContours input three values: source img, detect model(external outline only), output value store type \n",
    "    contours,_ = cv2.findContours(binary, cv2.RETR_EXTERNAL, cv2.CHAIN_APPROX_SIMPLE)\n",
    "    #src = original_file\n",
    "    ellipse_area = list()\n",
    "    for c in range(len(contours)):\n",
    "        if contours[c].size/2 >4:\n",
    "            # 椭圆拟合\n",
    "            (cx, cy), (a, b), angle = cv2.fitEllipse(contours[c])\n",
    "            # 绘制椭圆\n",
    "            if (cx > 0) & (cy > 0):\n",
    "                cv2.ellipse(original_file, (np.int32(cx), np.int32(cy)),\n",
    "                           (np.int32(a/2), np.int32(b/2)), angle, 0, 360, (0, 0, 255), 1, 8)\n",
    "                ellipse_area.append(round(math.pi*a*b/4,3))\n",
    "    \n",
    "    cv2.imwrite(\"Keamns_Elliptical_Fit_Output.jpg\",original_file)\n",
    "    #src = cv2.cvtColor(original_file, cv2.COLOR_BGR2RGB)\n",
    "    #plt.imshow(src),plt.xticks([]),plt.yticks([]),plt.show()\n",
    "    return (original_file, ellipse_area)"
   ]
  },
  {
   "cell_type": "code",
   "execution_count": null,
   "id": "5da6e5c5",
   "metadata": {},
   "outputs": [],
   "source": [
    "## merge all code\n",
    "def whitefly_counting(path):\n",
    "    croped_img = sticky_card_crop(path)\n",
    "    img = padding_pic(croped_img)\n",
    "    kmeans_result = pest_count_by_kmeans_and_binarz(img)\n",
    "    Elliptical_Fit_result, ellipse_area = Elliptical_Fit(kmeans_result, croped_img)\n",
    "    return Elliptical_Fit_result, ellipse_area\n",
    "\n"
   ]
  },
  {
   "cell_type": "code",
   "execution_count": null,
   "id": "770b5ec6",
   "metadata": {},
   "outputs": [],
   "source": []
  },
  {
   "cell_type": "code",
   "execution_count": null,
   "id": "c22e26ee",
   "metadata": {},
   "outputs": [],
   "source": []
  },
  {
   "cell_type": "code",
   "execution_count": null,
   "id": "85c10edb",
   "metadata": {},
   "outputs": [],
   "source": []
  }
 ],
 "metadata": {
  "kernelspec": {
   "display_name": "Python 3",
   "language": "python",
   "name": "python3"
  },
  "language_info": {
   "codemirror_mode": {
    "name": "ipython",
    "version": 3
   },
   "file_extension": ".py",
   "mimetype": "text/x-python",
   "name": "python",
   "nbconvert_exporter": "python",
   "pygments_lexer": "ipython3",
   "version": "3.9.5"
  }
 },
 "nbformat": 4,
 "nbformat_minor": 5
}
