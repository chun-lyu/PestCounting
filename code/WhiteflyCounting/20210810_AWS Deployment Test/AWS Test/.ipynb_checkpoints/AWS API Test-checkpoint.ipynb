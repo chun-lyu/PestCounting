{
 "cells": [
  {
   "cell_type": "markdown",
   "id": "7f6db5ed",
   "metadata": {},
   "source": [
    "# AWS API Test"
   ]
  },
  {
   "cell_type": "code",
   "execution_count": 5,
   "id": "934a2a33",
   "metadata": {},
   "outputs": [
    {
     "name": "stdout",
     "output_type": "stream",
     "text": [
      " * Serving Flask app '__main__' (lazy loading)\n",
      " * Environment: production\n",
      "   WARNING: This is a development server. Do not use it in a production deployment.\n",
      "   Use a production WSGI server instead.\n",
      " * Debug mode: off\n"
     ]
    },
    {
     "name": "stderr",
     "output_type": "stream",
     "text": [
      " * Running on http://127.0.0.1:5000/ (Press CTRL+C to quit)\n",
      "127.0.0.1 - - [14/Aug/2021 22:04:52] \"GET /download_file HTTP/1.1\" 404 -\n",
      "127.0.0.1 - - [14/Aug/2021 22:04:53] \"POST /upload/ HTTP/1.1\" 200 -\n",
      "127.0.0.1 - - [14/Aug/2021 22:04:59] \"GET /download_file HTTP/1.1\" 200 -\n",
      "127.0.0.1 - - [14/Aug/2021 22:05:00] \"POST /upload/ HTTP/1.1\" 200 -\n",
      "127.0.0.1 - - [14/Aug/2021 22:05:17] \"GET /download_file HTTP/1.1\" 200 -\n",
      "127.0.0.1 - - [14/Aug/2021 22:05:17] \"POST /upload/ HTTP/1.1\" 200 -\n"
     ]
    }
   ],
   "source": [
    "import os, cv2, requests, base64\n",
    "from flask import Flask, jsonify, request, send_from_directory\n",
    "from flask_cors import CORS\n",
    "import numpy as np\n",
    "from WhiteflyCounting.WFC import whitefly_counting\n",
    "\n",
    "app = Flask(__name__)\n",
    "CORS(app)\n",
    "\n",
    "@app.route('/url_dwnld/<url>')\n",
    "def url_dwnld(url):\n",
    "    url = url + \"===\"\n",
    "    url = base64.b64decode(url).decode()\n",
    "    r = requests.get(url, allow_redirects=True)\n",
    "    open(\"./whitefly_test.jpg\", 'wb').write(r.content)\n",
    "    Elliptical_Fit_result, ellipse_area = whitefly_counting(\"./whitefly_test.jpg\")\n",
    "    return str(len(ellipse_area))\n",
    "\n",
    "\n",
    "@app.route('/upload/', methods=['POST'])\n",
    "def up_load_big_file():\n",
    "    img = request.files.get('bigfile')\n",
    "    img.save(\"./whitefly_test.jpg\")\n",
    "    Elliptical_Fit_result, ellipse_area = whitefly_counting(\"./whitefly_test.jpg\")\n",
    "    return str(len(ellipse_area))\n",
    "\n",
    "@app.route(\"/download_file\")\n",
    "def download_file():\n",
    "    # 假设在当前目录\n",
    "    directory = os.getcwd()  \n",
    "    return send_from_directory(directory, \"Keamns_Elliptical_Fit_Output.jpg\", as_attachment=True)\n",
    "\n",
    "\n",
    "if __name__ == '__main__':\n",
    "    app.run()"
   ]
  },
  {
   "cell_type": "code",
   "execution_count": 3,
   "id": "4026cfd1",
   "metadata": {
    "scrolled": true
   },
   "outputs": [
    {
     "data": {
      "text/plain": [
       "b'aHR0cHM6Ly9pbWcudmltLWNuLmNvbS9kNS82ZGJkY2Y2NDdlNWIwYTg1ZTJjNThlMmEyMGI2OWQxMDUxNjI1Yy5wbmc='"
      ]
     },
     "execution_count": 3,
     "metadata": {},
     "output_type": "execute_result"
    }
   ],
   "source": [
    "import base64\n",
    "url = 'https://img.vim-cn.com/d5/6dbdcf647e5b0a85e2c58e2a20b69d1051625c.png'\n",
    "base64.b64encode(url.encode())"
   ]
  },
  {
   "cell_type": "code",
   "execution_count": 4,
   "id": "bda0e37f",
   "metadata": {},
   "outputs": [
    {
     "data": {
      "text/plain": [
       "'https://img.vim-cn.com/d5/6dbdcf647e5b0a85e2c58e2a20b69d1051625c.png'"
      ]
     },
     "execution_count": 4,
     "metadata": {},
     "output_type": "execute_result"
    }
   ],
   "source": [
    "base64.b64decode('aHR0cHM6Ly9pbWcudmltLWNuLmNvbS9kNS82ZGJkY2Y2NDdlNWIwYTg1ZTJjNThlMmEyMGI2OWQxMDUxNjI1Yy5wbmc========').decode()"
   ]
  }
 ],
 "metadata": {
  "kernelspec": {
   "display_name": "Python 3",
   "language": "python",
   "name": "python3"
  },
  "language_info": {
   "codemirror_mode": {
    "name": "ipython",
    "version": 3
   },
   "file_extension": ".py",
   "mimetype": "text/x-python",
   "name": "python",
   "nbconvert_exporter": "python",
   "pygments_lexer": "ipython3",
   "version": "3.9.5"
  }
 },
 "nbformat": 4,
 "nbformat_minor": 5
}
