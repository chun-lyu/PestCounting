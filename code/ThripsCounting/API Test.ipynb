{
 "cells": [
  {
   "cell_type": "markdown",
   "id": "7f6db5ed",
   "metadata": {},
   "source": [
    "# AWS API Test"
   ]
  },
  {
   "cell_type": "markdown",
   "id": "b0dd28b1",
   "metadata": {},
   "source": [
    "## Code For Deployment"
   ]
  },
  {
   "cell_type": "code",
   "execution_count": 1,
   "id": "934a2a33",
   "metadata": {
    "code_folding": [
     0
    ],
    "collapsed": true
   },
   "outputs": [
    {
     "name": "stdout",
     "output_type": "stream",
     "text": [
      " * Serving Flask app '__main__' (lazy loading)\n",
      " * Environment: production\n",
      "\u001b[31m   WARNING: This is a development server. Do not use it in a production deployment.\u001b[0m\n",
      "\u001b[2m   Use a production WSGI server instead.\u001b[0m\n",
      " * Debug mode: off\n"
     ]
    },
    {
     "name": "stderr",
     "output_type": "stream",
     "text": [
      " * Running on all addresses.\n",
      "   WARNING: This is a development server. Do not use it in a production deployment.\n",
      " * Running on http://10.138.173.182:900/ (Press CTRL+C to quit)\n",
      "10.138.173.182 - - [10/Aug/2021 12:28:36] \"GET / HTTP/1.1\" 404 -\n",
      "10.138.173.182 - - [10/Aug/2021 12:28:36] \"GET /favicon.ico HTTP/1.1\" 404 -\n",
      "10.138.173.182 - - [10/Aug/2021 12:28:57] \"GET /upload/aHR0cHM6Ly9pbWcudmltLWNuLmNvbS9kNS82ZGJkY2Y2NDdlNWIwYTg1ZTJjNThlMmEyMGI2OWQxMDUxNjI1Yy5wbmc======== HTTP/1.1\" 200 -\n"
     ]
    }
   ],
   "source": [
    "## flask part\n",
    "import os, cv2, requests, base64\n",
    "from flask import Flask, jsonify, request, send_from_directory\n",
    "import numpy as np\n",
    "from ThripsCounting.TC_func import Thrips_Counting\n",
    "\n",
    "app = Flask(__name__)\n",
    "\n",
    "\n",
    "@app.route('/upload/<url>')\n",
    "def upload(url):\n",
    "    url = url + \"===\"\n",
    "    url = base64.b64decode(url).decode()\n",
    "    url = 'https://img.vim-cn.com/d5/6dbdcf647e5b0a85e2c58e2a20b69d1051625c.png'\n",
    "    r = requests.get(url, allow_redirects=True)\n",
    "    open(\"./whitefly_test.jpg\", 'wb').write(r.content)\n",
    "    Elliptical_Fit_result, ellipse_area = Thrips_Counting(\"./whitefly_test.jpg\")\n",
    "    res = {'num': len(ellipse_area)}\n",
    "    return jsonify(data=res)\n",
    "\n",
    "\n",
    "# 启动服务，监听 9000 端口，监听地址为 0.0.0.0\n",
    "app.run(port=900, host='0.0.0.0')"
   ]
  },
  {
   "cell_type": "markdown",
   "id": "a93c116a",
   "metadata": {},
   "source": [
    "## Code For User Side"
   ]
  },
  {
   "cell_type": "code",
   "execution_count": 3,
   "id": "4026cfd1",
   "metadata": {
    "code_folding": [
     0
    ],
    "scrolled": false
   },
   "outputs": [
    {
     "data": {
      "text/plain": [
       "b'aHR0cHM6Ly9pbWcudmltLWNuLmNvbS9kNS82ZGJkY2Y2NDdlNWIwYTg1ZTJjNThlMmEyMGI2OWQxMDUxNjI1Yy5wbmc='"
      ]
     },
     "execution_count": 3,
     "metadata": {},
     "output_type": "execute_result"
    }
   ],
   "source": [
    "## base64 Part\n",
    "import base64\n",
    "url = 'https://img.vim-cn.com/d5/6dbdcf647e5b0a85e2c58e2a20b69d1051625c.png'\n",
    "base64.b64encode(url.encode())\n",
    "\n",
    "base64.b64decode('aHR0cHM6Ly9pbWcudmltLWNuLmNvbS9kNS82ZGJkY2Y2NDdlNWIwYTg1ZTJjNThlMmEyMGI2OWQxMDUxNjI1Yy5wbmc========').decode()"
   ]
  },
  {
   "cell_type": "markdown",
   "id": "9acfa5a7",
   "metadata": {},
   "source": [
    "## Algorithm Code"
   ]
  },
  {
   "cell_type": "code",
   "execution_count": 28,
   "id": "03e95d0f",
   "metadata": {
    "code_folding": [
     0,
     7
    ]
   },
   "outputs": [],
   "source": [
    "## all code\n",
    "import os, math, cv2\n",
    "import numpy as np\n",
    "import matplotlib.pyplot as plt\n",
    "\n",
    "\n",
    "## pading pic\n",
    "def padding_pic(img):\n",
    "    img_row_num = 3 - img.shape[0]%3\n",
    "    img=cv2.copyMakeBorder(img, 0, img_row_num, 0, 0, cv2.BORDER_CONSTANT, value=0)\n",
    "    return img\n",
    "\n",
    "## K-Means, Binarization and Elliptical Fit Code\n",
    "## K-means Code\n",
    "def pest_count_by_kmeans_and_binarz(Img, num_clusters=2):\n",
    "    #Img = cv2.imread(path, 1)\n",
    "    Img = Img[:,:,0]\n",
    "    # cv2.GaussianBlur\n",
    "    blur = cv2.GaussianBlur(Img, (1, 1), 0)\n",
    "    \n",
    "    # binarization\n",
    "    ret, otsu = cv2.threshold(blur, 90, 255, cv2.THRESH_BINARY + cv2.THRESH_OTSU)\n",
    "    print(ret)\n",
    "    \n",
    "    # k-means\n",
    "    data = otsu.reshape((-1,3))\n",
    "    data = np.float32(data)\n",
    "    # stop criteria: criteria flag(means one of them), iteration, epsilon\n",
    "    criteria = (cv2.TERM_CRITERIA_EPS + cv2.TERM_CRITERIA_MAX_ITER, 10, 1.0)\n",
    "    # cv2.kmeans input six parameter: source data, cluster number, preset labels, \n",
    "    # stop criteria, repeat times, initial center\n",
    "    # cv2.kmeans return three value: retrurn value type, label of pixel, cluster center\n",
    "    _,label,_=cv2.kmeans(data, num_clusters, None, criteria, \n",
    "                           num_clusters, cv2.KMEANS_RANDOM_CENTERS)\n",
    "    color = np.uint8([[255, 0, 0],[128, 128, 128]])\n",
    "    res = color[label.flatten()]\n",
    "    result = res.reshape((Img.shape))\n",
    "    #src = cv2.cvtColor(result, cv2.COLOR_BGR2RGB)\n",
    "    #plt.imshow(src),plt.xticks([]),plt.yticks([]),plt.show()\n",
    "    return result\n",
    "\n",
    "## Elliptical Fit Code\n",
    "def Elliptical_Fit(kmeans_result, original_file):\n",
    "    blur = cv2.GaussianBlur(kmeans_result, (9, 9), 0)\n",
    "    res, otsu = cv2.threshold(blur, 0, 255, cv2.THRESH_BINARY + cv2.THRESH_OTSU)\n",
    "    # cv2.Canny input three value: source img, min value, max value\n",
    "    binary = cv2.Canny(otsu, 80, 80 * 2)\n",
    "    # cv2.findContours input three values: source img, detect model(external outline only), output value store type \n",
    "    contours,_ = cv2.findContours(binary, cv2.RETR_EXTERNAL, cv2.CHAIN_APPROX_SIMPLE)\n",
    "    #src = original_file\n",
    "    ellipse_area = list()\n",
    "    for c in range(len(contours)):\n",
    "        if contours[c].size/2 >4:\n",
    "            # 椭圆拟合\n",
    "            (cx, cy), (a, b), angle = cv2.fitEllipse(contours[c])\n",
    "            # 绘制椭圆\n",
    "            if (cx > 0) & (cy > 0):\n",
    "                cv2.ellipse(original_file, (np.int32(cx), np.int32(cy)),\n",
    "                           (np.int32(a/2), np.int32(b/2)), angle, 0, 360, (0, 0, 255), 1, 8)\n",
    "                ellipse_area.append(round(math.pi*a*b/4,3))\n",
    "    \n",
    "    #cv2.imwrite(\"Keamns_Elliptical_Fit_Output.jpg\",original_file)\n",
    "    src = cv2.cvtColor(original_file, cv2.COLOR_BGR2RGB)\n",
    "    plt.imshow(src),plt.xticks([]),plt.yticks([]),plt.show()\n",
    "    return (original_file, ellipse_area)\n",
    "\n",
    "\n",
    "def Thrips_Counting(path):\n",
    "    croped_img = cv2.imread(path)\n",
    "    img = padding_pic(croped_img)\n",
    "    kmeans_result = pest_count_by_kmeans_and_binarz(img)\n",
    "    Elliptical_Fit_result, ellipse_area = Elliptical_Fit(kmeans_result, croped_img)\n",
    "    return Elliptical_Fit_result, ellipse_area"
   ]
  },
  {
   "cell_type": "markdown",
   "id": "0ee5d135",
   "metadata": {},
   "source": [
    "## Validation Code"
   ]
  },
  {
   "cell_type": "code",
   "execution_count": 47,
   "id": "7354ec13",
   "metadata": {
    "scrolled": false
   },
   "outputs": [
    {
     "name": "stdout",
     "output_type": "stream",
     "text": [
      "119.0\n"
     ]
    },
    {
     "data": {
      "image/png": "[encoded data removed]",
      "text/plain": [
       "<Figure size 432x288 with 1 Axes>"
      ]
     },
     "metadata": {},
     "output_type": "display_data"
    },
    {
     "data": {
      "text/plain": [
       "15"
      ]
     },
     "execution_count": 47,
     "metadata": {},
     "output_type": "execute_result"
    }
   ],
   "source": [
    "path = \"./pic/7.jpg\"\n",
    "Elliptical_Fit_result, ellipse_area = Thrips_Counting(path)\n",
    "len(ellipse_area)"
   ]
  },
  {
   "cell_type": "code",
   "execution_count": 45,
   "id": "4c3f061b",
   "metadata": {},
   "outputs": [
    {
     "data": {
      "text/plain": [
       "True"
      ]
     },
     "execution_count": 45,
     "metadata": {},
     "output_type": "execute_result"
    }
   ],
   "source": [
    "cv2.imwrite(\"res.jpg\", Elliptical_Fit_result)"
   ]
  }
 ],
 "metadata": {
  "kernelspec": {
   "display_name": "Python 3",
   "language": "python",
   "name": "python3"
  },
  "language_info": {
   "codemirror_mode": {
    "name": "ipython",
    "version": 3
   },
   "file_extension": ".py",
   "mimetype": "text/x-python",
   "name": "python",
   "nbconvert_exporter": "python",
   "pygments_lexer": "ipython3",
   "version": "3.9.5"
  }
 },
 "nbformat": 4,
 "nbformat_minor": 5
}
